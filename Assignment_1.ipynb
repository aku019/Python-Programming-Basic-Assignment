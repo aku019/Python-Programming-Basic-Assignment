{
  "nbformat": 4,
  "nbformat_minor": 0,
  "metadata": {
    "colab": {
      "name": "Assignment 1.ipynb",
      "provenance": []
    },
    "kernelspec": {
      "name": "python3",
      "display_name": "Python 3"
    },
    "language_info": {
      "name": "python"
    }
  },
  "cells": [
    {
      "cell_type": "code",
      "execution_count": 1,
      "metadata": {
        "colab": {
          "base_uri": "https://localhost:8080/"
        },
        "id": "A6H938lLwmY8",
        "outputId": "02055e16-c083-4fb5-e664-fd5dce4757a6"
      },
      "outputs": [
        {
          "output_type": "stream",
          "name": "stdout",
          "text": [
            "Hello Python\n"
          ]
        }
      ],
      "source": [
        "def hello():\n",
        "  print(\"Hello Python\")\n",
        "hello()\n"
      ]
    },
    {
      "cell_type": "code",
      "source": [
        "def add(a,b):\n",
        "  return a+b\n",
        "def divide(a,b):\n",
        "  try:\n",
        "    return a/b\n",
        "  except:\n",
        "    return \"Cannot divide by 0\"\n",
        "\n",
        "print(add(-5,6))\n",
        "print(divide(5,1))\n",
        "print(divide(5,8))\n",
        "print(divide(5,0))\n",
        "print(divide(0,1))\n",
        "\n",
        "\n",
        "\n"
      ],
      "metadata": {
        "colab": {
          "base_uri": "https://localhost:8080/"
        },
        "id": "BqQk3I26wvMx",
        "outputId": "9daff813-a093-410c-bfae-540fd814ca46"
      },
      "execution_count": 4,
      "outputs": [
        {
          "output_type": "stream",
          "name": "stdout",
          "text": [
            "1\n",
            "5.0\n",
            "0.625\n",
            "Cannot divide by 0\n",
            "0.0\n"
          ]
        }
      ]
    },
    {
      "cell_type": "code",
      "source": [
        "def area(a,b,c):\n",
        "  if(a<=0 or b<=0 or c<=0 or (a+b<=c) or (b+c<=a) or (a+c<=b)):\n",
        "    return \"Not possible\"\n",
        "  s=(a+b+c)/2\n",
        "  return (s*(s-a)*(s-b)*(s-c))**0.5\n",
        "\n",
        "\n",
        "area(3.0,5,8.9)\n",
        "area(4,5,6)"
      ],
      "metadata": {
        "colab": {
          "base_uri": "https://localhost:8080/"
        },
        "id": "J2QtlA02xiCQ",
        "outputId": "b3377906-a9fb-40c1-da70-80821239d9bd"
      },
      "execution_count": 9,
      "outputs": [
        {
          "output_type": "execute_result",
          "data": {
            "text/plain": [
              "9.921567416492215"
            ]
          },
          "metadata": {},
          "execution_count": 9
        }
      ]
    },
    {
      "cell_type": "code",
      "source": [
        "def swap(a,b):\n",
        "  b=a^b\n",
        "  a=a^b\n",
        "  b=a^b\n",
        "  return (a,b)\n",
        "\n",
        "c=2\n",
        "d=3\n",
        "print(c)\n",
        "print(d)\n",
        "(a,b)= swap(c,d)\n",
        "print(a)\n",
        "print(b)"
      ],
      "metadata": {
        "colab": {
          "base_uri": "https://localhost:8080/"
        },
        "id": "DInYoUkzzTlH",
        "outputId": "fa82f46c-9903-4444-8f36-3dbb41d1a9fa"
      },
      "execution_count": 17,
      "outputs": [
        {
          "output_type": "stream",
          "name": "stdout",
          "text": [
            "2\n",
            "3\n",
            "3\n",
            "2\n"
          ]
        }
      ]
    },
    {
      "cell_type": "code",
      "source": [
        "import random\n",
        "\n",
        "print(random.randint(0,1000))"
      ],
      "metadata": {
        "colab": {
          "base_uri": "https://localhost:8080/"
        },
        "id": "dt8dxT1pzAwO",
        "outputId": "6d2f2838-08ed-4467-e888-83f8e4f272dc"
      },
      "execution_count": 13,
      "outputs": [
        {
          "output_type": "stream",
          "name": "stdout",
          "text": [
            "980\n"
          ]
        }
      ]
    },
    {
      "cell_type": "code",
      "source": [
        ""
      ],
      "metadata": {
        "id": "uO_pDDgOzLva"
      },
      "execution_count": null,
      "outputs": []
    }
  ]
}